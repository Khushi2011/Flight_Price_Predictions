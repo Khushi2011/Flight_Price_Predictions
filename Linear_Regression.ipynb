{
  "nbformat": 4,
  "nbformat_minor": 0,
  "metadata": {
    "colab": {
      "provenance": []
    },
    "kernelspec": {
      "name": "python3",
      "display_name": "Python 3"
    },
    "language_info": {
      "name": "python"
    }
  },
  "cells": [
    {
      "cell_type": "code",
      "execution_count": 3,
      "metadata": {
        "colab": {
          "base_uri": "https://localhost:8080/"
        },
        "id": "m6vxnDn6Tx5F",
        "outputId": "cf9fc48a-0e50-4bd3-b7d2-07befaa9a834"
      },
      "outputs": [
        {
          "output_type": "execute_result",
          "data": {
            "text/plain": [
              "(45720769.75632412, 0.9113048651706634)"
            ]
          },
          "metadata": {},
          "execution_count": 3
        }
      ],
      "source": [
        "from sklearn.model_selection import train_test_split\n",
        "from sklearn.linear_model import LinearRegression\n",
        "from sklearn.metrics import mean_squared_error, r2_score\n",
        "from sklearn.preprocessing import OneHotEncoder\n",
        "import numpy as np\n",
        "import pandas as pd\n",
        "\n",
        "data = pd.read_csv(\"Clean_Dataset.csv\")\n",
        "\n",
        "# Drop unnecessary columns and select features\n",
        "data = data.drop(columns=[\"Unnamed: 0\", \"flight\"])\n",
        "\n",
        "# One-hot encode categorical variables\n",
        "categorical_cols = [\"airline\", \"source_city\", \"departure_time\", \"stops\", \"arrival_time\", \"destination_city\", \"class\"]\n",
        "encoder = OneHotEncoder(drop='first', sparse_output=False)\n",
        "encoded_categorical = encoder.fit_transform(data[categorical_cols])\n",
        "\n",
        "# Combine encoded categorical variables with numerical ones\n",
        "numerical_cols = [\"duration\", \"days_left\"]\n",
        "X = np.hstack([encoded_categorical, data[numerical_cols].values])\n",
        "y = data[\"price\"]\n",
        "\n",
        "# Split data into training and testing sets\n",
        "X_train, X_test, y_train, y_test = train_test_split(X, y, test_size=0.2, random_state=42)\n",
        "\n",
        "# Train the linear regression model\n",
        "model = LinearRegression()\n",
        "model.fit(X_train, y_train)\n",
        "\n",
        "# Make predictions and evaluate the model\n",
        "y_pred = model.predict(X_test)\n",
        "mse = mean_squared_error(y_test, y_pred)\n",
        "r2 = r2_score(y_test, y_pred)\n",
        "\n",
        "mse, r2\n"
      ]
    },
    {
      "cell_type": "code",
      "source": [
        "from sklearn.model_selection import train_test_split, GridSearchCV\n",
        "from sklearn.linear_model import Ridge, Lasso\n",
        "from sklearn.ensemble import RandomForestRegressor\n",
        "from sklearn.metrics import mean_squared_error, r2_score\n",
        "from sklearn.preprocessing import OneHotEncoder, StandardScaler\n",
        "from sklearn.pipeline import Pipeline\n",
        "from sklearn.compose import ColumnTransformer\n",
        "import numpy as np\n",
        "import pandas as pd\n",
        "\n",
        "# Load the dataset\n",
        "data = pd.read_csv(\"Clean_Dataset.csv\")\n",
        "\n",
        "# Drop unnecessary columns and select features\n",
        "data = data.drop(columns=[\"Unnamed: 0\", \"flight\"])\n",
        "\n",
        "# Separate features and target\n",
        "categorical_cols = [\"airline\", \"source_city\", \"departure_time\", \"stops\", \"arrival_time\", \"destination_city\", \"class\"]\n",
        "numerical_cols = [\"duration\", \"days_left\"]\n",
        "target_col = \"price\"\n",
        "\n",
        "# Log transform the target variable to reduce skewness\n",
        "data[target_col] = np.log1p(data[target_col])\n",
        "\n",
        "# Define preprocessing pipeline for numerical and categorical features\n",
        "numerical_transformer = Pipeline(steps=[\n",
        "    (\"scaler\", StandardScaler())\n",
        "])\n",
        "\n",
        "categorical_transformer = Pipeline(steps=[\n",
        "    (\"onehot\", OneHotEncoder(drop=\"first\", sparse_output=False))\n",
        "])\n",
        "\n",
        "preprocessor = ColumnTransformer(\n",
        "    transformers=[\n",
        "        (\"num\", numerical_transformer, numerical_cols),\n",
        "        (\"cat\", categorical_transformer, categorical_cols)\n",
        "    ]\n",
        ")\n",
        "\n",
        "# Define function to evaluate models\n",
        "def evaluate_model(model, X_train, X_test, y_train, y_test):\n",
        "    model.fit(X_train, y_train)\n",
        "    y_pred = model.predict(X_test)\n",
        "    mse = mean_squared_error(np.expm1(y_test), np.expm1(y_pred))  # Reverse log transformation\n",
        "    r2 = r2_score(np.expm1(y_test), np.expm1(y_pred))\n",
        "    return mse, r2\n",
        "\n",
        "# Split the data into train and test sets\n",
        "X = data[categorical_cols + numerical_cols]\n",
        "y = data[target_col]\n",
        "X_train, X_test, y_train, y_test = train_test_split(X, y, test_size=0.2, random_state=42)\n",
        "\n",
        "# Create pipelines for Ridge, Lasso, and Random Forest\n",
        "ridge_pipeline = Pipeline(steps=[\n",
        "    (\"preprocessor\", preprocessor),\n",
        "    (\"model\", Ridge())\n",
        "])\n",
        "\n",
        "lasso_pipeline = Pipeline(steps=[\n",
        "    (\"preprocessor\", preprocessor),\n",
        "    (\"model\", Lasso())\n",
        "])\n",
        "\n",
        "rf_pipeline = Pipeline(steps=[\n",
        "    (\"preprocessor\", preprocessor),\n",
        "    (\"model\", RandomForestRegressor(random_state=42, n_estimators=100))\n",
        "])\n",
        "\n",
        "# Hyperparameter tuning for Ridge and Lasso\n",
        "ridge_param_grid = {\"model__alpha\": [0.1, 1, 10, 100, 200]}\n",
        "lasso_param_grid = {\"model__alpha\": [0.01, 0.1, 1, 10, 100]}\n",
        "\n",
        "ridge_cv = GridSearchCV(ridge_pipeline, ridge_param_grid, scoring=\"neg_mean_squared_error\", cv=5)\n",
        "lasso_cv = GridSearchCV(lasso_pipeline, lasso_param_grid, scoring=\"neg_mean_squared_error\", cv=5)\n",
        "\n",
        "# Evaluate models\n",
        "ridge_mse, ridge_r2 = evaluate_model(ridge_cv, X_train, X_test, y_train, y_test)\n",
        "lasso_mse, lasso_r2 = evaluate_model(lasso_cv, X_train, X_test, y_train, y_test)\n",
        "rf_mse, rf_r2 = evaluate_model(rf_pipeline, X_train, X_test, y_train, y_test)\n",
        "\n",
        "# Print results\n",
        "print(\"Best Ridge Alpha:\", ridge_cv.best_params_[\"model__alpha\"])\n",
        "print(\"Ridge MSE:\", ridge_mse)\n",
        "print(\"Ridge R-squared:\", ridge_r2)\n",
        "\n",
        "print(\"Best Lasso Alpha:\", lasso_cv.best_params_[\"model__alpha\"])\n",
        "print(\"Lasso MSE:\", lasso_mse)\n",
        "print(\"Lasso R-squared:\", lasso_r2)\n",
        "\n",
        "print(\"Random Forest MSE:\", rf_mse)\n",
        "print(\"Random Forest R-squared:\", rf_r2)\n"
      ],
      "metadata": {
        "colab": {
          "base_uri": "https://localhost:8080/"
        },
        "id": "WycJsrp1WSM_",
        "outputId": "aa16c044-5851-40a2-f2df-3d36613755be"
      },
      "execution_count": 8,
      "outputs": [
        {
          "output_type": "stream",
          "name": "stdout",
          "text": [
            "Best Ridge Alpha: 0.1\n",
            "Ridge MSE: 60801278.33402935\n",
            "Ridge R-squared: 0.8820497203267926\n",
            "Best Lasso Alpha: 0.01\n",
            "Lasso MSE: 61191524.44361653\n",
            "Lasso R-squared: 0.8812926698333093\n",
            "Random Forest MSE: 7727635.090948485\n",
            "Random Forest R-squared: 0.9850089217667035\n"
          ]
        }
      ]
    }
  ]
}