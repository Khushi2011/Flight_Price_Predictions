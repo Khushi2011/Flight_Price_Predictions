{
 "cells": [
  {
   "cell_type": "code",
   "execution_count": 51,
   "id": "da9ce2c9-c276-4a1a-896a-2c75e5174033",
   "metadata": {},
   "outputs": [],
   "source": [
    "#importing Required Libraries\n",
    "import pandas as pd\n",
    "import numpy as np\n",
    "import tensorflow as tf\n",
    "import matplotlib.pyplot as plt\n",
    "from sklearn.model_selection import train_test_split\n",
    "from sklearn.preprocessing import StandardScaler,OneHotEncoder\n",
    "from sklearn.impute import SimpleImputer\n",
    "from tensorflow import keras\n",
    "from tensorflow.keras.layers import Dropout,Input\n",
    "from tensorflow.keras.regularizers import l2\n",
    "from keras.models import Sequential\n",
    "from keras.layers import Dense\n",
    "import tensorflow as tf\n",
    "from tensorflow.keras.models import Model\n",
    "from tensorflow.keras.layers import Dense, BatchNormalization, LeakyReLU, Dropout"
   ]
  },
  {
   "cell_type": "code",
   "execution_count": 3,
   "id": "b77a1c86-84c4-4341-98fb-ebe7661df0f1",
   "metadata": {},
   "outputs": [],
   "source": [
    "df = pd.read_csv(\"/Users/hiteshchowdary/Downloads/archive (1)/Clean_Dataset.csv\")"
   ]
  },
  {
   "cell_type": "code",
   "execution_count": 5,
   "id": "4abd846d-6eb0-4941-88e8-a38e2015cb73",
   "metadata": {},
   "outputs": [
    {
     "data": {
      "text/html": [
       "<div>\n",
       "<style scoped>\n",
       "    .dataframe tbody tr th:only-of-type {\n",
       "        vertical-align: middle;\n",
       "    }\n",
       "\n",
       "    .dataframe tbody tr th {\n",
       "        vertical-align: top;\n",
       "    }\n",
       "\n",
       "    .dataframe thead th {\n",
       "        text-align: right;\n",
       "    }\n",
       "</style>\n",
       "<table border=\"1\" class=\"dataframe\">\n",
       "  <thead>\n",
       "    <tr style=\"text-align: right;\">\n",
       "      <th></th>\n",
       "      <th>Unnamed: 0</th>\n",
       "      <th>airline</th>\n",
       "      <th>flight</th>\n",
       "      <th>source_city</th>\n",
       "      <th>departure_time</th>\n",
       "      <th>stops</th>\n",
       "      <th>arrival_time</th>\n",
       "      <th>destination_city</th>\n",
       "      <th>class</th>\n",
       "      <th>duration</th>\n",
       "      <th>days_left</th>\n",
       "      <th>price</th>\n",
       "    </tr>\n",
       "  </thead>\n",
       "  <tbody>\n",
       "    <tr>\n",
       "      <th>0</th>\n",
       "      <td>0</td>\n",
       "      <td>SpiceJet</td>\n",
       "      <td>SG-8709</td>\n",
       "      <td>Delhi</td>\n",
       "      <td>Evening</td>\n",
       "      <td>zero</td>\n",
       "      <td>Night</td>\n",
       "      <td>Mumbai</td>\n",
       "      <td>Economy</td>\n",
       "      <td>2.17</td>\n",
       "      <td>1</td>\n",
       "      <td>5953</td>\n",
       "    </tr>\n",
       "    <tr>\n",
       "      <th>1</th>\n",
       "      <td>1</td>\n",
       "      <td>SpiceJet</td>\n",
       "      <td>SG-8157</td>\n",
       "      <td>Delhi</td>\n",
       "      <td>Early_Morning</td>\n",
       "      <td>zero</td>\n",
       "      <td>Morning</td>\n",
       "      <td>Mumbai</td>\n",
       "      <td>Economy</td>\n",
       "      <td>2.33</td>\n",
       "      <td>1</td>\n",
       "      <td>5953</td>\n",
       "    </tr>\n",
       "    <tr>\n",
       "      <th>2</th>\n",
       "      <td>2</td>\n",
       "      <td>AirAsia</td>\n",
       "      <td>I5-764</td>\n",
       "      <td>Delhi</td>\n",
       "      <td>Early_Morning</td>\n",
       "      <td>zero</td>\n",
       "      <td>Early_Morning</td>\n",
       "      <td>Mumbai</td>\n",
       "      <td>Economy</td>\n",
       "      <td>2.17</td>\n",
       "      <td>1</td>\n",
       "      <td>5956</td>\n",
       "    </tr>\n",
       "    <tr>\n",
       "      <th>3</th>\n",
       "      <td>3</td>\n",
       "      <td>Vistara</td>\n",
       "      <td>UK-995</td>\n",
       "      <td>Delhi</td>\n",
       "      <td>Morning</td>\n",
       "      <td>zero</td>\n",
       "      <td>Afternoon</td>\n",
       "      <td>Mumbai</td>\n",
       "      <td>Economy</td>\n",
       "      <td>2.25</td>\n",
       "      <td>1</td>\n",
       "      <td>5955</td>\n",
       "    </tr>\n",
       "    <tr>\n",
       "      <th>4</th>\n",
       "      <td>4</td>\n",
       "      <td>Vistara</td>\n",
       "      <td>UK-963</td>\n",
       "      <td>Delhi</td>\n",
       "      <td>Morning</td>\n",
       "      <td>zero</td>\n",
       "      <td>Morning</td>\n",
       "      <td>Mumbai</td>\n",
       "      <td>Economy</td>\n",
       "      <td>2.33</td>\n",
       "      <td>1</td>\n",
       "      <td>5955</td>\n",
       "    </tr>\n",
       "    <tr>\n",
       "      <th>...</th>\n",
       "      <td>...</td>\n",
       "      <td>...</td>\n",
       "      <td>...</td>\n",
       "      <td>...</td>\n",
       "      <td>...</td>\n",
       "      <td>...</td>\n",
       "      <td>...</td>\n",
       "      <td>...</td>\n",
       "      <td>...</td>\n",
       "      <td>...</td>\n",
       "      <td>...</td>\n",
       "      <td>...</td>\n",
       "    </tr>\n",
       "    <tr>\n",
       "      <th>300148</th>\n",
       "      <td>300148</td>\n",
       "      <td>Vistara</td>\n",
       "      <td>UK-822</td>\n",
       "      <td>Chennai</td>\n",
       "      <td>Morning</td>\n",
       "      <td>one</td>\n",
       "      <td>Evening</td>\n",
       "      <td>Hyderabad</td>\n",
       "      <td>Business</td>\n",
       "      <td>10.08</td>\n",
       "      <td>49</td>\n",
       "      <td>69265</td>\n",
       "    </tr>\n",
       "    <tr>\n",
       "      <th>300149</th>\n",
       "      <td>300149</td>\n",
       "      <td>Vistara</td>\n",
       "      <td>UK-826</td>\n",
       "      <td>Chennai</td>\n",
       "      <td>Afternoon</td>\n",
       "      <td>one</td>\n",
       "      <td>Night</td>\n",
       "      <td>Hyderabad</td>\n",
       "      <td>Business</td>\n",
       "      <td>10.42</td>\n",
       "      <td>49</td>\n",
       "      <td>77105</td>\n",
       "    </tr>\n",
       "    <tr>\n",
       "      <th>300150</th>\n",
       "      <td>300150</td>\n",
       "      <td>Vistara</td>\n",
       "      <td>UK-832</td>\n",
       "      <td>Chennai</td>\n",
       "      <td>Early_Morning</td>\n",
       "      <td>one</td>\n",
       "      <td>Night</td>\n",
       "      <td>Hyderabad</td>\n",
       "      <td>Business</td>\n",
       "      <td>13.83</td>\n",
       "      <td>49</td>\n",
       "      <td>79099</td>\n",
       "    </tr>\n",
       "    <tr>\n",
       "      <th>300151</th>\n",
       "      <td>300151</td>\n",
       "      <td>Vistara</td>\n",
       "      <td>UK-828</td>\n",
       "      <td>Chennai</td>\n",
       "      <td>Early_Morning</td>\n",
       "      <td>one</td>\n",
       "      <td>Evening</td>\n",
       "      <td>Hyderabad</td>\n",
       "      <td>Business</td>\n",
       "      <td>10.00</td>\n",
       "      <td>49</td>\n",
       "      <td>81585</td>\n",
       "    </tr>\n",
       "    <tr>\n",
       "      <th>300152</th>\n",
       "      <td>300152</td>\n",
       "      <td>Vistara</td>\n",
       "      <td>UK-822</td>\n",
       "      <td>Chennai</td>\n",
       "      <td>Morning</td>\n",
       "      <td>one</td>\n",
       "      <td>Evening</td>\n",
       "      <td>Hyderabad</td>\n",
       "      <td>Business</td>\n",
       "      <td>10.08</td>\n",
       "      <td>49</td>\n",
       "      <td>81585</td>\n",
       "    </tr>\n",
       "  </tbody>\n",
       "</table>\n",
       "<p>300153 rows × 12 columns</p>\n",
       "</div>"
      ],
      "text/plain": [
       "        Unnamed: 0   airline   flight source_city departure_time stops  \\\n",
       "0                0  SpiceJet  SG-8709       Delhi        Evening  zero   \n",
       "1                1  SpiceJet  SG-8157       Delhi  Early_Morning  zero   \n",
       "2                2   AirAsia   I5-764       Delhi  Early_Morning  zero   \n",
       "3                3   Vistara   UK-995       Delhi        Morning  zero   \n",
       "4                4   Vistara   UK-963       Delhi        Morning  zero   \n",
       "...            ...       ...      ...         ...            ...   ...   \n",
       "300148      300148   Vistara   UK-822     Chennai        Morning   one   \n",
       "300149      300149   Vistara   UK-826     Chennai      Afternoon   one   \n",
       "300150      300150   Vistara   UK-832     Chennai  Early_Morning   one   \n",
       "300151      300151   Vistara   UK-828     Chennai  Early_Morning   one   \n",
       "300152      300152   Vistara   UK-822     Chennai        Morning   one   \n",
       "\n",
       "         arrival_time destination_city     class  duration  days_left  price  \n",
       "0               Night           Mumbai   Economy      2.17          1   5953  \n",
       "1             Morning           Mumbai   Economy      2.33          1   5953  \n",
       "2       Early_Morning           Mumbai   Economy      2.17          1   5956  \n",
       "3           Afternoon           Mumbai   Economy      2.25          1   5955  \n",
       "4             Morning           Mumbai   Economy      2.33          1   5955  \n",
       "...               ...              ...       ...       ...        ...    ...  \n",
       "300148        Evening        Hyderabad  Business     10.08         49  69265  \n",
       "300149          Night        Hyderabad  Business     10.42         49  77105  \n",
       "300150          Night        Hyderabad  Business     13.83         49  79099  \n",
       "300151        Evening        Hyderabad  Business     10.00         49  81585  \n",
       "300152        Evening        Hyderabad  Business     10.08         49  81585  \n",
       "\n",
       "[300153 rows x 12 columns]"
      ]
     },
     "execution_count": 5,
     "metadata": {},
     "output_type": "execute_result"
    }
   ],
   "source": [
    "df"
   ]
  },
  {
   "cell_type": "code",
   "execution_count": 7,
   "id": "fc6425d0-6141-407c-9a39-8d499b09223a",
   "metadata": {},
   "outputs": [
    {
     "data": {
      "text/plain": [
       "300153"
      ]
     },
     "execution_count": 7,
     "metadata": {},
     "output_type": "execute_result"
    }
   ],
   "source": [
    "len(df)"
   ]
  },
  {
   "cell_type": "code",
   "execution_count": 9,
   "id": "d1b72171-87db-431b-9633-04ddd3f88775",
   "metadata": {},
   "outputs": [
    {
     "data": {
      "text/plain": [
       "Index(['Unnamed: 0', 'airline', 'flight', 'source_city', 'departure_time',\n",
       "       'stops', 'arrival_time', 'destination_city', 'class', 'duration',\n",
       "       'days_left', 'price'],\n",
       "      dtype='object')"
      ]
     },
     "execution_count": 9,
     "metadata": {},
     "output_type": "execute_result"
    }
   ],
   "source": [
    "df.columns"
   ]
  },
  {
   "cell_type": "code",
   "execution_count": 11,
   "id": "37cb79e8-9edd-499b-8f99-a2e8c48da497",
   "metadata": {},
   "outputs": [
    {
     "data": {
      "text/plain": [
       "Unnamed: 0          0\n",
       "airline             0\n",
       "flight              0\n",
       "source_city         0\n",
       "departure_time      0\n",
       "stops               0\n",
       "arrival_time        0\n",
       "destination_city    0\n",
       "class               0\n",
       "duration            0\n",
       "days_left           0\n",
       "price               0\n",
       "dtype: int64"
      ]
     },
     "execution_count": 11,
     "metadata": {},
     "output_type": "execute_result"
    }
   ],
   "source": [
    "df.isna().sum()"
   ]
  },
  {
   "cell_type": "code",
   "execution_count": 13,
   "id": "1aec7335-c6ef-45e9-9d3d-4831162208b2",
   "metadata": {},
   "outputs": [
    {
     "name": "stdout",
     "output_type": "stream",
     "text": [
      "<class 'pandas.core.frame.DataFrame'>\n",
      "RangeIndex: 300153 entries, 0 to 300152\n",
      "Data columns (total 12 columns):\n",
      " #   Column            Non-Null Count   Dtype  \n",
      "---  ------            --------------   -----  \n",
      " 0   Unnamed: 0        300153 non-null  int64  \n",
      " 1   airline           300153 non-null  object \n",
      " 2   flight            300153 non-null  object \n",
      " 3   source_city       300153 non-null  object \n",
      " 4   departure_time    300153 non-null  object \n",
      " 5   stops             300153 non-null  object \n",
      " 6   arrival_time      300153 non-null  object \n",
      " 7   destination_city  300153 non-null  object \n",
      " 8   class             300153 non-null  object \n",
      " 9   duration          300153 non-null  float64\n",
      " 10  days_left         300153 non-null  int64  \n",
      " 11  price             300153 non-null  int64  \n",
      "dtypes: float64(1), int64(3), object(8)\n",
      "memory usage: 27.5+ MB\n"
     ]
    }
   ],
   "source": [
    "df.info()"
   ]
  },
  {
   "cell_type": "code",
   "execution_count": 15,
   "id": "40c78d5a-3040-4cba-97ad-48611362e003",
   "metadata": {},
   "outputs": [
    {
     "data": {
      "text/plain": [
       "20889.660523133203"
      ]
     },
     "execution_count": 15,
     "metadata": {},
     "output_type": "execute_result"
    }
   ],
   "source": [
    "df['price'].mean()"
   ]
  },
  {
   "cell_type": "code",
   "execution_count": null,
   "id": "e2bfc9aa-4051-47ec-a6b6-d5e7e2da7a40",
   "metadata": {},
   "outputs": [],
   "source": [
    "df = df.drop(columns = ['flight', 'Unnamed: 0'], axis = 1 )"
   ]
  },
  {
   "cell_type": "code",
   "execution_count": 19,
   "id": "bc17dff2-85bb-4ba0-ab94-480c217fb283",
   "metadata": {},
   "outputs": [
    {
     "data": {
      "text/html": [
       "<div>\n",
       "<style scoped>\n",
       "    .dataframe tbody tr th:only-of-type {\n",
       "        vertical-align: middle;\n",
       "    }\n",
       "\n",
       "    .dataframe tbody tr th {\n",
       "        vertical-align: top;\n",
       "    }\n",
       "\n",
       "    .dataframe thead th {\n",
       "        text-align: right;\n",
       "    }\n",
       "</style>\n",
       "<table border=\"1\" class=\"dataframe\">\n",
       "  <thead>\n",
       "    <tr style=\"text-align: right;\">\n",
       "      <th></th>\n",
       "      <th>airline</th>\n",
       "      <th>source_city</th>\n",
       "      <th>departure_time</th>\n",
       "      <th>stops</th>\n",
       "      <th>arrival_time</th>\n",
       "      <th>destination_city</th>\n",
       "      <th>class</th>\n",
       "      <th>duration</th>\n",
       "      <th>days_left</th>\n",
       "      <th>price</th>\n",
       "    </tr>\n",
       "  </thead>\n",
       "  <tbody>\n",
       "    <tr>\n",
       "      <th>0</th>\n",
       "      <td>SpiceJet</td>\n",
       "      <td>Delhi</td>\n",
       "      <td>Evening</td>\n",
       "      <td>zero</td>\n",
       "      <td>Night</td>\n",
       "      <td>Mumbai</td>\n",
       "      <td>Economy</td>\n",
       "      <td>2.17</td>\n",
       "      <td>1</td>\n",
       "      <td>5953</td>\n",
       "    </tr>\n",
       "    <tr>\n",
       "      <th>1</th>\n",
       "      <td>SpiceJet</td>\n",
       "      <td>Delhi</td>\n",
       "      <td>Early_Morning</td>\n",
       "      <td>zero</td>\n",
       "      <td>Morning</td>\n",
       "      <td>Mumbai</td>\n",
       "      <td>Economy</td>\n",
       "      <td>2.33</td>\n",
       "      <td>1</td>\n",
       "      <td>5953</td>\n",
       "    </tr>\n",
       "    <tr>\n",
       "      <th>2</th>\n",
       "      <td>AirAsia</td>\n",
       "      <td>Delhi</td>\n",
       "      <td>Early_Morning</td>\n",
       "      <td>zero</td>\n",
       "      <td>Early_Morning</td>\n",
       "      <td>Mumbai</td>\n",
       "      <td>Economy</td>\n",
       "      <td>2.17</td>\n",
       "      <td>1</td>\n",
       "      <td>5956</td>\n",
       "    </tr>\n",
       "    <tr>\n",
       "      <th>3</th>\n",
       "      <td>Vistara</td>\n",
       "      <td>Delhi</td>\n",
       "      <td>Morning</td>\n",
       "      <td>zero</td>\n",
       "      <td>Afternoon</td>\n",
       "      <td>Mumbai</td>\n",
       "      <td>Economy</td>\n",
       "      <td>2.25</td>\n",
       "      <td>1</td>\n",
       "      <td>5955</td>\n",
       "    </tr>\n",
       "    <tr>\n",
       "      <th>4</th>\n",
       "      <td>Vistara</td>\n",
       "      <td>Delhi</td>\n",
       "      <td>Morning</td>\n",
       "      <td>zero</td>\n",
       "      <td>Morning</td>\n",
       "      <td>Mumbai</td>\n",
       "      <td>Economy</td>\n",
       "      <td>2.33</td>\n",
       "      <td>1</td>\n",
       "      <td>5955</td>\n",
       "    </tr>\n",
       "    <tr>\n",
       "      <th>...</th>\n",
       "      <td>...</td>\n",
       "      <td>...</td>\n",
       "      <td>...</td>\n",
       "      <td>...</td>\n",
       "      <td>...</td>\n",
       "      <td>...</td>\n",
       "      <td>...</td>\n",
       "      <td>...</td>\n",
       "      <td>...</td>\n",
       "      <td>...</td>\n",
       "    </tr>\n",
       "    <tr>\n",
       "      <th>300148</th>\n",
       "      <td>Vistara</td>\n",
       "      <td>Chennai</td>\n",
       "      <td>Morning</td>\n",
       "      <td>one</td>\n",
       "      <td>Evening</td>\n",
       "      <td>Hyderabad</td>\n",
       "      <td>Business</td>\n",
       "      <td>10.08</td>\n",
       "      <td>49</td>\n",
       "      <td>69265</td>\n",
       "    </tr>\n",
       "    <tr>\n",
       "      <th>300149</th>\n",
       "      <td>Vistara</td>\n",
       "      <td>Chennai</td>\n",
       "      <td>Afternoon</td>\n",
       "      <td>one</td>\n",
       "      <td>Night</td>\n",
       "      <td>Hyderabad</td>\n",
       "      <td>Business</td>\n",
       "      <td>10.42</td>\n",
       "      <td>49</td>\n",
       "      <td>77105</td>\n",
       "    </tr>\n",
       "    <tr>\n",
       "      <th>300150</th>\n",
       "      <td>Vistara</td>\n",
       "      <td>Chennai</td>\n",
       "      <td>Early_Morning</td>\n",
       "      <td>one</td>\n",
       "      <td>Night</td>\n",
       "      <td>Hyderabad</td>\n",
       "      <td>Business</td>\n",
       "      <td>13.83</td>\n",
       "      <td>49</td>\n",
       "      <td>79099</td>\n",
       "    </tr>\n",
       "    <tr>\n",
       "      <th>300151</th>\n",
       "      <td>Vistara</td>\n",
       "      <td>Chennai</td>\n",
       "      <td>Early_Morning</td>\n",
       "      <td>one</td>\n",
       "      <td>Evening</td>\n",
       "      <td>Hyderabad</td>\n",
       "      <td>Business</td>\n",
       "      <td>10.00</td>\n",
       "      <td>49</td>\n",
       "      <td>81585</td>\n",
       "    </tr>\n",
       "    <tr>\n",
       "      <th>300152</th>\n",
       "      <td>Vistara</td>\n",
       "      <td>Chennai</td>\n",
       "      <td>Morning</td>\n",
       "      <td>one</td>\n",
       "      <td>Evening</td>\n",
       "      <td>Hyderabad</td>\n",
       "      <td>Business</td>\n",
       "      <td>10.08</td>\n",
       "      <td>49</td>\n",
       "      <td>81585</td>\n",
       "    </tr>\n",
       "  </tbody>\n",
       "</table>\n",
       "<p>300153 rows × 10 columns</p>\n",
       "</div>"
      ],
      "text/plain": [
       "         airline source_city departure_time stops   arrival_time  \\\n",
       "0       SpiceJet       Delhi        Evening  zero          Night   \n",
       "1       SpiceJet       Delhi  Early_Morning  zero        Morning   \n",
       "2        AirAsia       Delhi  Early_Morning  zero  Early_Morning   \n",
       "3        Vistara       Delhi        Morning  zero      Afternoon   \n",
       "4        Vistara       Delhi        Morning  zero        Morning   \n",
       "...          ...         ...            ...   ...            ...   \n",
       "300148   Vistara     Chennai        Morning   one        Evening   \n",
       "300149   Vistara     Chennai      Afternoon   one          Night   \n",
       "300150   Vistara     Chennai  Early_Morning   one          Night   \n",
       "300151   Vistara     Chennai  Early_Morning   one        Evening   \n",
       "300152   Vistara     Chennai        Morning   one        Evening   \n",
       "\n",
       "       destination_city     class  duration  days_left  price  \n",
       "0                Mumbai   Economy      2.17          1   5953  \n",
       "1                Mumbai   Economy      2.33          1   5953  \n",
       "2                Mumbai   Economy      2.17          1   5956  \n",
       "3                Mumbai   Economy      2.25          1   5955  \n",
       "4                Mumbai   Economy      2.33          1   5955  \n",
       "...                 ...       ...       ...        ...    ...  \n",
       "300148        Hyderabad  Business     10.08         49  69265  \n",
       "300149        Hyderabad  Business     10.42         49  77105  \n",
       "300150        Hyderabad  Business     13.83         49  79099  \n",
       "300151        Hyderabad  Business     10.00         49  81585  \n",
       "300152        Hyderabad  Business     10.08         49  81585  \n",
       "\n",
       "[300153 rows x 10 columns]"
      ]
     },
     "execution_count": 19,
     "metadata": {},
     "output_type": "execute_result"
    }
   ],
   "source": [
    "df"
   ]
  },
  {
   "cell_type": "code",
   "execution_count": 21,
   "id": "84b6b6c6-577e-4cff-8d62-e7439d0a3c87",
   "metadata": {},
   "outputs": [],
   "source": [
    "# Define important trained variables (features) and target variable\n",
    "trained_variables = ['airline', 'source_city', 'departure_time', 'stops', 'destination_city', 'class', 'duration', 'days_left']\n",
    "target_variable = 'price'"
   ]
  },
  {
   "cell_type": "code",
   "execution_count": 23,
   "id": "d17b8778-d7d2-4b5f-b6b4-4849a0146069",
   "metadata": {},
   "outputs": [],
   "source": [
    "# Apply one-hot encoding to categorical features\n",
    "categorical_features = ['airline', 'source_city', 'departure_time', 'stops', 'destination_city', 'class','arrival_time']\n",
    "ohe = OneHotEncoder(sparse_output=False, drop='first', handle_unknown='ignore')\n",
    "encoded_features = ohe.fit_transform(df[categorical_features])\n",
    "encoded_df = pd.DataFrame(encoded_features, columns=ohe.get_feature_names_out(categorical_features))\n"
   ]
  },
  {
   "cell_type": "code",
   "execution_count": 25,
   "id": "47eb6733-fa53-4f16-9095-94058a579757",
   "metadata": {},
   "outputs": [],
   "source": [
    "# Combine encoded categorical features with numerical features\n",
    "df = df.drop(columns=categorical_features)\n",
    "df = pd.concat([df, encoded_df], axis=1)"
   ]
  },
  {
   "cell_type": "code",
   "execution_count": 27,
   "id": "b9dcbdca-4fbd-4eba-a67f-8385da5910be",
   "metadata": {},
   "outputs": [],
   "source": [
    "# Apply log transformation to the target variable\n",
    "df[target_variable] = np.log1p(df[target_variable])"
   ]
  },
  {
   "cell_type": "code",
   "execution_count": 29,
   "id": "2ac7b242-18d3-43e6-9c95-379b490d9f31",
   "metadata": {},
   "outputs": [
    {
     "name": "stdout",
     "output_type": "stream",
     "text": [
      "<class 'pandas.core.frame.DataFrame'>\n",
      "RangeIndex: 300153 entries, 0 to 300152\n",
      "Data columns (total 31 columns):\n",
      " #   Column                        Non-Null Count   Dtype  \n",
      "---  ------                        --------------   -----  \n",
      " 0   duration                      300153 non-null  float64\n",
      " 1   days_left                     300153 non-null  int64  \n",
      " 2   price                         300153 non-null  float64\n",
      " 3   airline_Air_India             300153 non-null  float64\n",
      " 4   airline_GO_FIRST              300153 non-null  float64\n",
      " 5   airline_Indigo                300153 non-null  float64\n",
      " 6   airline_SpiceJet              300153 non-null  float64\n",
      " 7   airline_Vistara               300153 non-null  float64\n",
      " 8   source_city_Chennai           300153 non-null  float64\n",
      " 9   source_city_Delhi             300153 non-null  float64\n",
      " 10  source_city_Hyderabad         300153 non-null  float64\n",
      " 11  source_city_Kolkata           300153 non-null  float64\n",
      " 12  source_city_Mumbai            300153 non-null  float64\n",
      " 13  departure_time_Early_Morning  300153 non-null  float64\n",
      " 14  departure_time_Evening        300153 non-null  float64\n",
      " 15  departure_time_Late_Night     300153 non-null  float64\n",
      " 16  departure_time_Morning        300153 non-null  float64\n",
      " 17  departure_time_Night          300153 non-null  float64\n",
      " 18  stops_two_or_more             300153 non-null  float64\n",
      " 19  stops_zero                    300153 non-null  float64\n",
      " 20  destination_city_Chennai      300153 non-null  float64\n",
      " 21  destination_city_Delhi        300153 non-null  float64\n",
      " 22  destination_city_Hyderabad    300153 non-null  float64\n",
      " 23  destination_city_Kolkata      300153 non-null  float64\n",
      " 24  destination_city_Mumbai       300153 non-null  float64\n",
      " 25  class_Economy                 300153 non-null  float64\n",
      " 26  arrival_time_Early_Morning    300153 non-null  float64\n",
      " 27  arrival_time_Evening          300153 non-null  float64\n",
      " 28  arrival_time_Late_Night       300153 non-null  float64\n",
      " 29  arrival_time_Morning          300153 non-null  float64\n",
      " 30  arrival_time_Night            300153 non-null  float64\n",
      "dtypes: float64(30), int64(1)\n",
      "memory usage: 71.0 MB\n"
     ]
    }
   ],
   "source": [
    "df.info()"
   ]
  },
  {
   "cell_type": "code",
   "execution_count": 31,
   "id": "22870ba3-7313-4092-a75b-1814981ef299",
   "metadata": {},
   "outputs": [],
   "source": [
    "# Prepare dataset\n",
    "X = df.drop(columns=[target_variable]).values\n",
    "y = df[target_variable].values"
   ]
  },
  {
   "cell_type": "code",
   "execution_count": 33,
   "id": "daa4619b-8ed2-4f0b-bc33-0eceb589670b",
   "metadata": {},
   "outputs": [],
   "source": [
    "# Train-test split\n",
    "X_train, X_test, y_train, y_test = train_test_split(X, y, test_size=0.2, random_state=42)"
   ]
  },
  {
   "cell_type": "code",
   "execution_count": 35,
   "id": "ec188dfc-d133-4ce9-8fb2-57a74412fdd0",
   "metadata": {},
   "outputs": [
    {
     "data": {
      "text/plain": [
       "array([[19.42,  6.  ,  1.  , ...,  0.  ,  1.  ,  0.  ],\n",
       "       [ 7.  , 13.  ,  0.  , ...,  0.  ,  0.  ,  1.  ],\n",
       "       [21.17, 44.  ,  1.  , ...,  0.  ,  0.  ,  0.  ],\n",
       "       ...,\n",
       "       [13.67, 29.  ,  1.  , ...,  0.  ,  1.  ,  0.  ],\n",
       "       [ 8.33, 39.  ,  0.  , ...,  0.  ,  0.  ,  1.  ],\n",
       "       [20.17, 17.  ,  1.  , ...,  0.  ,  1.  ,  0.  ]])"
      ]
     },
     "execution_count": 35,
     "metadata": {},
     "output_type": "execute_result"
    }
   ],
   "source": [
    "X_train"
   ]
  },
  {
   "cell_type": "code",
   "execution_count": 37,
   "id": "8c7cba28-6466-45e6-867a-e45fc95adaf3",
   "metadata": {},
   "outputs": [],
   "source": [
    "# Standardize the dataset\n",
    "scaler = StandardScaler()\n",
    "X_train = scaler.fit_transform(X_train)\n",
    "X_test = scaler.transform(X_test)"
   ]
  },
  {
   "cell_type": "code",
   "execution_count": 39,
   "id": "e1c27a30-31c7-422a-8378-773f98e333fa",
   "metadata": {},
   "outputs": [
    {
     "name": "stderr",
     "output_type": "stream",
     "text": [
      "/opt/anaconda3/lib/python3.12/site-packages/keras/src/layers/core/dense.py:87: UserWarning: Do not pass an `input_shape`/`input_dim` argument to a layer. When using Sequential models, prefer using an `Input(shape)` object as the first layer in the model instead.\n",
      "  super().__init__(activity_regularizer=activity_regularizer, **kwargs)\n"
     ]
    }
   ],
   "source": [
    "# Define an improved neural network model\n",
    "model = Sequential([\n",
    "    Dense(256, input_shape=(X_train.shape[1],)),\n",
    "    BatchNormalization(),\n",
    "    LeakyReLU(),\n",
    "    Dropout(0.2),\n",
    "    Dense(128),\n",
    "    BatchNormalization(),\n",
    "    LeakyReLU(),\n",
    "    Dropout(0.2),\n",
    "    Dense(64),\n",
    "    BatchNormalization(),\n",
    "    LeakyReLU(),\n",
    "    Dropout(0.2),\n",
    "    Dense(1, activation='linear')  # Regression output\n",
    "])"
   ]
  },
  {
   "cell_type": "code",
   "execution_count": null,
   "id": "91b24d10-cdc0-4c09-a060-dbdbd73e9576",
   "metadata": {},
   "outputs": [],
   "source": [
    "# Define an improved neural network model\n",
    "model = Sequential([\n",
    "    Dense(256, kernel_regularizer=l2(0.001), input_shape=(X_train.shape[1],)),\n",
    "    BatchNormalization(),\n",
    "    LeakyReLU(),\n",
    "    Dropout(0.2),\n",
    "    Dense(128, kernel_regularizer=l2(0.001)),\n",
    "    BatchNormalization(),\n",
    "    LeakyReLU(),\n",
    "    Dropout(0.2),\n",
    "    Dense(64, kernel_regularizer=l2(0.001)),\n",
    "    BatchNormalization(),\n",
    "    LeakyReLU(),\n",
    "    Dropout(0.2),\n",
    "    Dense(1, activation='linear')  # Regression output\n",
    "])"
   ]
  },
  {
   "cell_type": "code",
   "execution_count": null,
   "id": "6fb6c193-4c46-47fa-8b04-b82426f956ca",
   "metadata": {},
   "outputs": [],
   "source": [
    "#model.compile(optimizer= tf.keras.optimizers.Adam(learning_rate=0.0005),loss = 'categorical_crossentropy',metrics = ['accuracy'])"
   ]
  },
  {
   "cell_type": "code",
   "execution_count": 41,
   "id": "0b3d12d8-6b88-42d6-8bf7-d785ab5ee923",
   "metadata": {},
   "outputs": [],
   "source": [
    "# Compile model\n",
    "model.compile(optimizer=tf.keras.optimizers.Adam(learning_rate=0.0005), loss='mse', metrics=['mae'])"
   ]
  },
  {
   "cell_type": "code",
   "execution_count": 43,
   "id": "375af2d9-1c33-4c99-85f3-aa308b0db551",
   "metadata": {},
   "outputs": [
    {
     "data": {
      "text/html": [
       "<pre style=\"white-space:pre;overflow-x:auto;line-height:normal;font-family:Menlo,'DejaVu Sans Mono',consolas,'Courier New',monospace\"><span style=\"font-weight: bold\">Model: \"sequential\"</span>\n",
       "</pre>\n"
      ],
      "text/plain": [
       "\u001b[1mModel: \"sequential\"\u001b[0m\n"
      ]
     },
     "metadata": {},
     "output_type": "display_data"
    },
    {
     "data": {
      "text/html": [
       "<pre style=\"white-space:pre;overflow-x:auto;line-height:normal;font-family:Menlo,'DejaVu Sans Mono',consolas,'Courier New',monospace\">┏━━━━━━━━━━━━━━━━━━━━━━━━━━━━━━━━━┳━━━━━━━━━━━━━━━━━━━━━━━━┳━━━━━━━━━━━━━━━┓\n",
       "┃<span style=\"font-weight: bold\"> Layer (type)                    </span>┃<span style=\"font-weight: bold\"> Output Shape           </span>┃<span style=\"font-weight: bold\">       Param # </span>┃\n",
       "┡━━━━━━━━━━━━━━━━━━━━━━━━━━━━━━━━━╇━━━━━━━━━━━━━━━━━━━━━━━━╇━━━━━━━━━━━━━━━┩\n",
       "│ dense (<span style=\"color: #0087ff; text-decoration-color: #0087ff\">Dense</span>)                   │ (<span style=\"color: #00d7ff; text-decoration-color: #00d7ff\">None</span>, <span style=\"color: #00af00; text-decoration-color: #00af00\">256</span>)            │         <span style=\"color: #00af00; text-decoration-color: #00af00\">7,936</span> │\n",
       "├─────────────────────────────────┼────────────────────────┼───────────────┤\n",
       "│ batch_normalization             │ (<span style=\"color: #00d7ff; text-decoration-color: #00d7ff\">None</span>, <span style=\"color: #00af00; text-decoration-color: #00af00\">256</span>)            │         <span style=\"color: #00af00; text-decoration-color: #00af00\">1,024</span> │\n",
       "│ (<span style=\"color: #0087ff; text-decoration-color: #0087ff\">BatchNormalization</span>)            │                        │               │\n",
       "├─────────────────────────────────┼────────────────────────┼───────────────┤\n",
       "│ leaky_re_lu (<span style=\"color: #0087ff; text-decoration-color: #0087ff\">LeakyReLU</span>)         │ (<span style=\"color: #00d7ff; text-decoration-color: #00d7ff\">None</span>, <span style=\"color: #00af00; text-decoration-color: #00af00\">256</span>)            │             <span style=\"color: #00af00; text-decoration-color: #00af00\">0</span> │\n",
       "├─────────────────────────────────┼────────────────────────┼───────────────┤\n",
       "│ dropout (<span style=\"color: #0087ff; text-decoration-color: #0087ff\">Dropout</span>)               │ (<span style=\"color: #00d7ff; text-decoration-color: #00d7ff\">None</span>, <span style=\"color: #00af00; text-decoration-color: #00af00\">256</span>)            │             <span style=\"color: #00af00; text-decoration-color: #00af00\">0</span> │\n",
       "├─────────────────────────────────┼────────────────────────┼───────────────┤\n",
       "│ dense_1 (<span style=\"color: #0087ff; text-decoration-color: #0087ff\">Dense</span>)                 │ (<span style=\"color: #00d7ff; text-decoration-color: #00d7ff\">None</span>, <span style=\"color: #00af00; text-decoration-color: #00af00\">128</span>)            │        <span style=\"color: #00af00; text-decoration-color: #00af00\">32,896</span> │\n",
       "├─────────────────────────────────┼────────────────────────┼───────────────┤\n",
       "│ batch_normalization_1           │ (<span style=\"color: #00d7ff; text-decoration-color: #00d7ff\">None</span>, <span style=\"color: #00af00; text-decoration-color: #00af00\">128</span>)            │           <span style=\"color: #00af00; text-decoration-color: #00af00\">512</span> │\n",
       "│ (<span style=\"color: #0087ff; text-decoration-color: #0087ff\">BatchNormalization</span>)            │                        │               │\n",
       "├─────────────────────────────────┼────────────────────────┼───────────────┤\n",
       "│ leaky_re_lu_1 (<span style=\"color: #0087ff; text-decoration-color: #0087ff\">LeakyReLU</span>)       │ (<span style=\"color: #00d7ff; text-decoration-color: #00d7ff\">None</span>, <span style=\"color: #00af00; text-decoration-color: #00af00\">128</span>)            │             <span style=\"color: #00af00; text-decoration-color: #00af00\">0</span> │\n",
       "├─────────────────────────────────┼────────────────────────┼───────────────┤\n",
       "│ dropout_1 (<span style=\"color: #0087ff; text-decoration-color: #0087ff\">Dropout</span>)             │ (<span style=\"color: #00d7ff; text-decoration-color: #00d7ff\">None</span>, <span style=\"color: #00af00; text-decoration-color: #00af00\">128</span>)            │             <span style=\"color: #00af00; text-decoration-color: #00af00\">0</span> │\n",
       "├─────────────────────────────────┼────────────────────────┼───────────────┤\n",
       "│ dense_2 (<span style=\"color: #0087ff; text-decoration-color: #0087ff\">Dense</span>)                 │ (<span style=\"color: #00d7ff; text-decoration-color: #00d7ff\">None</span>, <span style=\"color: #00af00; text-decoration-color: #00af00\">64</span>)             │         <span style=\"color: #00af00; text-decoration-color: #00af00\">8,256</span> │\n",
       "├─────────────────────────────────┼────────────────────────┼───────────────┤\n",
       "│ batch_normalization_2           │ (<span style=\"color: #00d7ff; text-decoration-color: #00d7ff\">None</span>, <span style=\"color: #00af00; text-decoration-color: #00af00\">64</span>)             │           <span style=\"color: #00af00; text-decoration-color: #00af00\">256</span> │\n",
       "│ (<span style=\"color: #0087ff; text-decoration-color: #0087ff\">BatchNormalization</span>)            │                        │               │\n",
       "├─────────────────────────────────┼────────────────────────┼───────────────┤\n",
       "│ leaky_re_lu_2 (<span style=\"color: #0087ff; text-decoration-color: #0087ff\">LeakyReLU</span>)       │ (<span style=\"color: #00d7ff; text-decoration-color: #00d7ff\">None</span>, <span style=\"color: #00af00; text-decoration-color: #00af00\">64</span>)             │             <span style=\"color: #00af00; text-decoration-color: #00af00\">0</span> │\n",
       "├─────────────────────────────────┼────────────────────────┼───────────────┤\n",
       "│ dropout_2 (<span style=\"color: #0087ff; text-decoration-color: #0087ff\">Dropout</span>)             │ (<span style=\"color: #00d7ff; text-decoration-color: #00d7ff\">None</span>, <span style=\"color: #00af00; text-decoration-color: #00af00\">64</span>)             │             <span style=\"color: #00af00; text-decoration-color: #00af00\">0</span> │\n",
       "├─────────────────────────────────┼────────────────────────┼───────────────┤\n",
       "│ dense_3 (<span style=\"color: #0087ff; text-decoration-color: #0087ff\">Dense</span>)                 │ (<span style=\"color: #00d7ff; text-decoration-color: #00d7ff\">None</span>, <span style=\"color: #00af00; text-decoration-color: #00af00\">1</span>)              │            <span style=\"color: #00af00; text-decoration-color: #00af00\">65</span> │\n",
       "└─────────────────────────────────┴────────────────────────┴───────────────┘\n",
       "</pre>\n"
      ],
      "text/plain": [
       "┏━━━━━━━━━━━━━━━━━━━━━━━━━━━━━━━━━┳━━━━━━━━━━━━━━━━━━━━━━━━┳━━━━━━━━━━━━━━━┓\n",
       "┃\u001b[1m \u001b[0m\u001b[1mLayer (type)                   \u001b[0m\u001b[1m \u001b[0m┃\u001b[1m \u001b[0m\u001b[1mOutput Shape          \u001b[0m\u001b[1m \u001b[0m┃\u001b[1m \u001b[0m\u001b[1m      Param #\u001b[0m\u001b[1m \u001b[0m┃\n",
       "┡━━━━━━━━━━━━━━━━━━━━━━━━━━━━━━━━━╇━━━━━━━━━━━━━━━━━━━━━━━━╇━━━━━━━━━━━━━━━┩\n",
       "│ dense (\u001b[38;5;33mDense\u001b[0m)                   │ (\u001b[38;5;45mNone\u001b[0m, \u001b[38;5;34m256\u001b[0m)            │         \u001b[38;5;34m7,936\u001b[0m │\n",
       "├─────────────────────────────────┼────────────────────────┼───────────────┤\n",
       "│ batch_normalization             │ (\u001b[38;5;45mNone\u001b[0m, \u001b[38;5;34m256\u001b[0m)            │         \u001b[38;5;34m1,024\u001b[0m │\n",
       "│ (\u001b[38;5;33mBatchNormalization\u001b[0m)            │                        │               │\n",
       "├─────────────────────────────────┼────────────────────────┼───────────────┤\n",
       "│ leaky_re_lu (\u001b[38;5;33mLeakyReLU\u001b[0m)         │ (\u001b[38;5;45mNone\u001b[0m, \u001b[38;5;34m256\u001b[0m)            │             \u001b[38;5;34m0\u001b[0m │\n",
       "├─────────────────────────────────┼────────────────────────┼───────────────┤\n",
       "│ dropout (\u001b[38;5;33mDropout\u001b[0m)               │ (\u001b[38;5;45mNone\u001b[0m, \u001b[38;5;34m256\u001b[0m)            │             \u001b[38;5;34m0\u001b[0m │\n",
       "├─────────────────────────────────┼────────────────────────┼───────────────┤\n",
       "│ dense_1 (\u001b[38;5;33mDense\u001b[0m)                 │ (\u001b[38;5;45mNone\u001b[0m, \u001b[38;5;34m128\u001b[0m)            │        \u001b[38;5;34m32,896\u001b[0m │\n",
       "├─────────────────────────────────┼────────────────────────┼───────────────┤\n",
       "│ batch_normalization_1           │ (\u001b[38;5;45mNone\u001b[0m, \u001b[38;5;34m128\u001b[0m)            │           \u001b[38;5;34m512\u001b[0m │\n",
       "│ (\u001b[38;5;33mBatchNormalization\u001b[0m)            │                        │               │\n",
       "├─────────────────────────────────┼────────────────────────┼───────────────┤\n",
       "│ leaky_re_lu_1 (\u001b[38;5;33mLeakyReLU\u001b[0m)       │ (\u001b[38;5;45mNone\u001b[0m, \u001b[38;5;34m128\u001b[0m)            │             \u001b[38;5;34m0\u001b[0m │\n",
       "├─────────────────────────────────┼────────────────────────┼───────────────┤\n",
       "│ dropout_1 (\u001b[38;5;33mDropout\u001b[0m)             │ (\u001b[38;5;45mNone\u001b[0m, \u001b[38;5;34m128\u001b[0m)            │             \u001b[38;5;34m0\u001b[0m │\n",
       "├─────────────────────────────────┼────────────────────────┼───────────────┤\n",
       "│ dense_2 (\u001b[38;5;33mDense\u001b[0m)                 │ (\u001b[38;5;45mNone\u001b[0m, \u001b[38;5;34m64\u001b[0m)             │         \u001b[38;5;34m8,256\u001b[0m │\n",
       "├─────────────────────────────────┼────────────────────────┼───────────────┤\n",
       "│ batch_normalization_2           │ (\u001b[38;5;45mNone\u001b[0m, \u001b[38;5;34m64\u001b[0m)             │           \u001b[38;5;34m256\u001b[0m │\n",
       "│ (\u001b[38;5;33mBatchNormalization\u001b[0m)            │                        │               │\n",
       "├─────────────────────────────────┼────────────────────────┼───────────────┤\n",
       "│ leaky_re_lu_2 (\u001b[38;5;33mLeakyReLU\u001b[0m)       │ (\u001b[38;5;45mNone\u001b[0m, \u001b[38;5;34m64\u001b[0m)             │             \u001b[38;5;34m0\u001b[0m │\n",
       "├─────────────────────────────────┼────────────────────────┼───────────────┤\n",
       "│ dropout_2 (\u001b[38;5;33mDropout\u001b[0m)             │ (\u001b[38;5;45mNone\u001b[0m, \u001b[38;5;34m64\u001b[0m)             │             \u001b[38;5;34m0\u001b[0m │\n",
       "├─────────────────────────────────┼────────────────────────┼───────────────┤\n",
       "│ dense_3 (\u001b[38;5;33mDense\u001b[0m)                 │ (\u001b[38;5;45mNone\u001b[0m, \u001b[38;5;34m1\u001b[0m)              │            \u001b[38;5;34m65\u001b[0m │\n",
       "└─────────────────────────────────┴────────────────────────┴───────────────┘\n"
      ]
     },
     "metadata": {},
     "output_type": "display_data"
    },
    {
     "data": {
      "text/html": [
       "<pre style=\"white-space:pre;overflow-x:auto;line-height:normal;font-family:Menlo,'DejaVu Sans Mono',consolas,'Courier New',monospace\"><span style=\"font-weight: bold\"> Total params: </span><span style=\"color: #00af00; text-decoration-color: #00af00\">50,945</span> (199.00 KB)\n",
       "</pre>\n"
      ],
      "text/plain": [
       "\u001b[1m Total params: \u001b[0m\u001b[38;5;34m50,945\u001b[0m (199.00 KB)\n"
      ]
     },
     "metadata": {},
     "output_type": "display_data"
    },
    {
     "data": {
      "text/html": [
       "<pre style=\"white-space:pre;overflow-x:auto;line-height:normal;font-family:Menlo,'DejaVu Sans Mono',consolas,'Courier New',monospace\"><span style=\"font-weight: bold\"> Trainable params: </span><span style=\"color: #00af00; text-decoration-color: #00af00\">50,049</span> (195.50 KB)\n",
       "</pre>\n"
      ],
      "text/plain": [
       "\u001b[1m Trainable params: \u001b[0m\u001b[38;5;34m50,049\u001b[0m (195.50 KB)\n"
      ]
     },
     "metadata": {},
     "output_type": "display_data"
    },
    {
     "data": {
      "text/html": [
       "<pre style=\"white-space:pre;overflow-x:auto;line-height:normal;font-family:Menlo,'DejaVu Sans Mono',consolas,'Courier New',monospace\"><span style=\"font-weight: bold\"> Non-trainable params: </span><span style=\"color: #00af00; text-decoration-color: #00af00\">896</span> (3.50 KB)\n",
       "</pre>\n"
      ],
      "text/plain": [
       "\u001b[1m Non-trainable params: \u001b[0m\u001b[38;5;34m896\u001b[0m (3.50 KB)\n"
      ]
     },
     "metadata": {},
     "output_type": "display_data"
    }
   ],
   "source": [
    "# Model summary\n",
    "model.summary()"
   ]
  },
  {
   "cell_type": "code",
   "execution_count": 45,
   "id": "b79da484-1965-4321-9948-8617ac78c655",
   "metadata": {},
   "outputs": [
    {
     "name": "stdout",
     "output_type": "stream",
     "text": [
      "Epoch 1/100\n",
      "\u001b[1m3752/3752\u001b[0m \u001b[32m━━━━━━━━━━━━━━━━━━━━\u001b[0m\u001b[37m\u001b[0m \u001b[1m4s\u001b[0m 974us/step - loss: 16.4168 - mae: 2.9559 - val_loss: 0.1558 - val_mae: 0.3023\n",
      "Epoch 2/100\n",
      "\u001b[1m3752/3752\u001b[0m \u001b[32m━━━━━━━━━━━━━━━━━━━━\u001b[0m\u001b[37m\u001b[0m \u001b[1m3s\u001b[0m 919us/step - loss: 1.1109 - mae: 0.8336 - val_loss: 0.0942 - val_mae: 0.2347\n",
      "Epoch 3/100\n",
      "\u001b[1m3752/3752\u001b[0m \u001b[32m━━━━━━━━━━━━━━━━━━━━\u001b[0m\u001b[37m\u001b[0m \u001b[1m3s\u001b[0m 899us/step - loss: 0.6582 - mae: 0.6419 - val_loss: 0.0763 - val_mae: 0.2153\n",
      "Epoch 4/100\n",
      "\u001b[1m3752/3752\u001b[0m \u001b[32m━━━━━━━━━━━━━━━━━━━━\u001b[0m\u001b[37m\u001b[0m \u001b[1m3s\u001b[0m 921us/step - loss: 0.4566 - mae: 0.5356 - val_loss: 0.0690 - val_mae: 0.2029\n",
      "Epoch 5/100\n",
      "\u001b[1m3752/3752\u001b[0m \u001b[32m━━━━━━━━━━━━━━━━━━━━\u001b[0m\u001b[37m\u001b[0m \u001b[1m3s\u001b[0m 910us/step - loss: 0.3651 - mae: 0.4791 - val_loss: 0.0629 - val_mae: 0.1908\n",
      "Epoch 6/100\n",
      "\u001b[1m3752/3752\u001b[0m \u001b[32m━━━━━━━━━━━━━━━━━━━━\u001b[0m\u001b[37m\u001b[0m \u001b[1m3s\u001b[0m 898us/step - loss: 0.3204 - mae: 0.4487 - val_loss: 0.0611 - val_mae: 0.1868\n",
      "Epoch 7/100\n",
      "\u001b[1m3752/3752\u001b[0m \u001b[32m━━━━━━━━━━━━━━━━━━━━\u001b[0m\u001b[37m\u001b[0m \u001b[1m3s\u001b[0m 919us/step - loss: 0.2903 - mae: 0.4270 - val_loss: 0.0573 - val_mae: 0.1794\n",
      "Epoch 8/100\n",
      "\u001b[1m3752/3752\u001b[0m \u001b[32m━━━━━━━━━━━━━━━━━━━━\u001b[0m\u001b[37m\u001b[0m \u001b[1m3s\u001b[0m 919us/step - loss: 0.2672 - mae: 0.4098 - val_loss: 0.0577 - val_mae: 0.1801\n",
      "Epoch 9/100\n",
      "\u001b[1m3752/3752\u001b[0m \u001b[32m━━━━━━━━━━━━━━━━━━━━\u001b[0m\u001b[37m\u001b[0m \u001b[1m4s\u001b[0m 932us/step - loss: 0.2478 - mae: 0.3946 - val_loss: 0.0634 - val_mae: 0.1910\n",
      "Epoch 10/100\n",
      "\u001b[1m3752/3752\u001b[0m \u001b[32m━━━━━━━━━━━━━━━━━━━━\u001b[0m\u001b[37m\u001b[0m \u001b[1m3s\u001b[0m 923us/step - loss: 0.2311 - mae: 0.3810 - val_loss: 0.0549 - val_mae: 0.1739\n",
      "Epoch 11/100\n",
      "\u001b[1m3752/3752\u001b[0m \u001b[32m━━━━━━━━━━━━━━━━━━━━\u001b[0m\u001b[37m\u001b[0m \u001b[1m3s\u001b[0m 912us/step - loss: 0.2192 - mae: 0.3699 - val_loss: 0.0545 - val_mae: 0.1752\n",
      "Epoch 12/100\n",
      "\u001b[1m3752/3752\u001b[0m \u001b[32m━━━━━━━━━━━━━━━━━━━━\u001b[0m\u001b[37m\u001b[0m \u001b[1m3s\u001b[0m 915us/step - loss: 0.2040 - mae: 0.3565 - val_loss: 0.0626 - val_mae: 0.1887\n",
      "Epoch 13/100\n",
      "\u001b[1m3752/3752\u001b[0m \u001b[32m━━━━━━━━━━━━━━━━━━━━\u001b[0m\u001b[37m\u001b[0m \u001b[1m3s\u001b[0m 904us/step - loss: 0.1925 - mae: 0.3467 - val_loss: 0.0593 - val_mae: 0.1838\n",
      "Epoch 14/100\n",
      "\u001b[1m3752/3752\u001b[0m \u001b[32m━━━━━━━━━━━━━━━━━━━━\u001b[0m\u001b[37m\u001b[0m \u001b[1m3s\u001b[0m 925us/step - loss: 0.1828 - mae: 0.3372 - val_loss: 0.0503 - val_mae: 0.1636\n",
      "Epoch 15/100\n",
      "\u001b[1m3752/3752\u001b[0m \u001b[32m━━━━━━━━━━━━━━━━━━━━\u001b[0m\u001b[37m\u001b[0m \u001b[1m3s\u001b[0m 899us/step - loss: 0.1737 - mae: 0.3286 - val_loss: 0.0529 - val_mae: 0.1699\n",
      "Epoch 16/100\n",
      "\u001b[1m3752/3752\u001b[0m \u001b[32m━━━━━━━━━━━━━━━━━━━━\u001b[0m\u001b[37m\u001b[0m \u001b[1m3s\u001b[0m 925us/step - loss: 0.1652 - mae: 0.3206 - val_loss: 0.0496 - val_mae: 0.1631\n",
      "Epoch 17/100\n",
      "\u001b[1m3752/3752\u001b[0m \u001b[32m━━━━━━━━━━━━━━━━━━━━\u001b[0m\u001b[37m\u001b[0m \u001b[1m3s\u001b[0m 918us/step - loss: 0.1565 - mae: 0.3116 - val_loss: 0.0492 - val_mae: 0.1613\n",
      "Epoch 18/100\n",
      "\u001b[1m3752/3752\u001b[0m \u001b[32m━━━━━━━━━━━━━━━━━━━━\u001b[0m\u001b[37m\u001b[0m \u001b[1m3s\u001b[0m 906us/step - loss: 0.1498 - mae: 0.3044 - val_loss: 0.0502 - val_mae: 0.1648\n",
      "Epoch 19/100\n",
      "\u001b[1m3752/3752\u001b[0m \u001b[32m━━━━━━━━━━━━━━━━━━━━\u001b[0m\u001b[37m\u001b[0m \u001b[1m3s\u001b[0m 912us/step - loss: 0.1428 - mae: 0.2973 - val_loss: 0.0485 - val_mae: 0.1586\n",
      "Epoch 20/100\n",
      "\u001b[1m3752/3752\u001b[0m \u001b[32m━━━━━━━━━━━━━━━━━━━━\u001b[0m\u001b[37m\u001b[0m \u001b[1m4s\u001b[0m 948us/step - loss: 0.1364 - mae: 0.2902 - val_loss: 0.0487 - val_mae: 0.1588\n",
      "Epoch 21/100\n",
      "\u001b[1m3752/3752\u001b[0m \u001b[32m━━━━━━━━━━━━━━━━━━━━\u001b[0m\u001b[37m\u001b[0m \u001b[1m3s\u001b[0m 888us/step - loss: 0.1334 - mae: 0.2867 - val_loss: 0.0505 - val_mae: 0.1658\n",
      "Epoch 22/100\n",
      "\u001b[1m3752/3752\u001b[0m \u001b[32m━━━━━━━━━━━━━━━━━━━━\u001b[0m\u001b[37m\u001b[0m \u001b[1m3s\u001b[0m 907us/step - loss: 0.1269 - mae: 0.2790 - val_loss: 0.0487 - val_mae: 0.1623\n",
      "Epoch 23/100\n",
      "\u001b[1m3752/3752\u001b[0m \u001b[32m━━━━━━━━━━━━━━━━━━━━\u001b[0m\u001b[37m\u001b[0m \u001b[1m3s\u001b[0m 916us/step - loss: 0.1219 - mae: 0.2735 - val_loss: 0.0473 - val_mae: 0.1560\n",
      "Epoch 24/100\n",
      "\u001b[1m3752/3752\u001b[0m \u001b[32m━━━━━━━━━━━━━━━━━━━━\u001b[0m\u001b[37m\u001b[0m \u001b[1m3s\u001b[0m 919us/step - loss: 0.1197 - mae: 0.2704 - val_loss: 0.0479 - val_mae: 0.1559\n",
      "Epoch 25/100\n",
      "\u001b[1m3752/3752\u001b[0m \u001b[32m━━━━━━━━━━━━━━━━━━━━\u001b[0m\u001b[37m\u001b[0m \u001b[1m3s\u001b[0m 916us/step - loss: 0.1156 - mae: 0.2659 - val_loss: 0.0483 - val_mae: 0.1609\n",
      "Epoch 26/100\n",
      "\u001b[1m3752/3752\u001b[0m \u001b[32m━━━━━━━━━━━━━━━━━━━━\u001b[0m\u001b[37m\u001b[0m \u001b[1m3s\u001b[0m 913us/step - loss: 0.1108 - mae: 0.2602 - val_loss: 0.0478 - val_mae: 0.1601\n",
      "Epoch 27/100\n",
      "\u001b[1m3752/3752\u001b[0m \u001b[32m━━━━━━━━━━━━━━━━━━━━\u001b[0m\u001b[37m\u001b[0m \u001b[1m3s\u001b[0m 893us/step - loss: 0.1092 - mae: 0.2583 - val_loss: 0.0477 - val_mae: 0.1580\n",
      "Epoch 28/100\n",
      "\u001b[1m3752/3752\u001b[0m \u001b[32m━━━━━━━━━━━━━━━━━━━━\u001b[0m\u001b[37m\u001b[0m \u001b[1m3s\u001b[0m 895us/step - loss: 0.1069 - mae: 0.2551 - val_loss: 0.0473 - val_mae: 0.1557\n",
      "Epoch 29/100\n",
      "\u001b[1m3752/3752\u001b[0m \u001b[32m━━━━━━━━━━━━━━━━━━━━\u001b[0m\u001b[37m\u001b[0m \u001b[1m3s\u001b[0m 900us/step - loss: 0.1030 - mae: 0.2499 - val_loss: 0.0467 - val_mae: 0.1531\n",
      "Epoch 30/100\n",
      "\u001b[1m3752/3752\u001b[0m \u001b[32m━━━━━━━━━━━━━━━━━━━━\u001b[0m\u001b[37m\u001b[0m \u001b[1m3s\u001b[0m 906us/step - loss: 0.1018 - mae: 0.2481 - val_loss: 0.0518 - val_mae: 0.1712\n",
      "Epoch 31/100\n",
      "\u001b[1m3752/3752\u001b[0m \u001b[32m━━━━━━━━━━━━━━━━━━━━\u001b[0m\u001b[37m\u001b[0m \u001b[1m3s\u001b[0m 902us/step - loss: 0.0995 - mae: 0.2457 - val_loss: 0.0471 - val_mae: 0.1579\n",
      "Epoch 32/100\n",
      "\u001b[1m3752/3752\u001b[0m \u001b[32m━━━━━━━━━━━━━━━━━━━━\u001b[0m\u001b[37m\u001b[0m \u001b[1m3s\u001b[0m 924us/step - loss: 0.0980 - mae: 0.2437 - val_loss: 0.0482 - val_mae: 0.1602\n",
      "Epoch 33/100\n",
      "\u001b[1m3752/3752\u001b[0m \u001b[32m━━━━━━━━━━━━━━━━━━━━\u001b[0m\u001b[37m\u001b[0m \u001b[1m3s\u001b[0m 904us/step - loss: 0.0966 - mae: 0.2419 - val_loss: 0.0462 - val_mae: 0.1517\n",
      "Epoch 34/100\n",
      "\u001b[1m3752/3752\u001b[0m \u001b[32m━━━━━━━━━━━━━━━━━━━━\u001b[0m\u001b[37m\u001b[0m \u001b[1m3s\u001b[0m 905us/step - loss: 0.0941 - mae: 0.2381 - val_loss: 0.0463 - val_mae: 0.1552\n",
      "Epoch 35/100\n",
      "\u001b[1m3752/3752\u001b[0m \u001b[32m━━━━━━━━━━━━━━━━━━━━\u001b[0m\u001b[37m\u001b[0m \u001b[1m4s\u001b[0m 946us/step - loss: 0.0919 - mae: 0.2351 - val_loss: 0.0524 - val_mae: 0.1695\n",
      "Epoch 36/100\n",
      "\u001b[1m3752/3752\u001b[0m \u001b[32m━━━━━━━━━━━━━━━━━━━━\u001b[0m\u001b[37m\u001b[0m \u001b[1m3s\u001b[0m 929us/step - loss: 0.0913 - mae: 0.2338 - val_loss: 0.0457 - val_mae: 0.1517\n",
      "Epoch 37/100\n",
      "\u001b[1m3752/3752\u001b[0m \u001b[32m━━━━━━━━━━━━━━━━━━━━\u001b[0m\u001b[37m\u001b[0m \u001b[1m3s\u001b[0m 905us/step - loss: 0.0900 - mae: 0.2322 - val_loss: 0.0452 - val_mae: 0.1513\n",
      "Epoch 38/100\n",
      "\u001b[1m3752/3752\u001b[0m \u001b[32m━━━━━━━━━━━━━━━━━━━━\u001b[0m\u001b[37m\u001b[0m \u001b[1m3s\u001b[0m 908us/step - loss: 0.0878 - mae: 0.2293 - val_loss: 0.0452 - val_mae: 0.1517\n",
      "Epoch 39/100\n",
      "\u001b[1m3752/3752\u001b[0m \u001b[32m━━━━━━━━━━━━━━━━━━━━\u001b[0m\u001b[37m\u001b[0m \u001b[1m4s\u001b[0m 958us/step - loss: 0.0863 - mae: 0.2271 - val_loss: 0.0460 - val_mae: 0.1561\n",
      "Epoch 40/100\n",
      "\u001b[1m3752/3752\u001b[0m \u001b[32m━━━━━━━━━━━━━━━━━━━━\u001b[0m\u001b[37m\u001b[0m \u001b[1m3s\u001b[0m 917us/step - loss: 0.0852 - mae: 0.2257 - val_loss: 0.0453 - val_mae: 0.1523\n",
      "Epoch 41/100\n",
      "\u001b[1m3752/3752\u001b[0m \u001b[32m━━━━━━━━━━━━━━━━━━━━\u001b[0m\u001b[37m\u001b[0m \u001b[1m30s\u001b[0m 8ms/step - loss: 0.0841 - mae: 0.2233 - val_loss: 0.0457 - val_mae: 0.1534\n",
      "Epoch 42/100\n",
      "\u001b[1m3752/3752\u001b[0m \u001b[32m━━━━━━━━━━━━━━━━━━━━\u001b[0m\u001b[37m\u001b[0m \u001b[1m3s\u001b[0m 922us/step - loss: 0.0823 - mae: 0.2214 - val_loss: 0.0466 - val_mae: 0.1565\n",
      "Epoch 43/100\n",
      "\u001b[1m3752/3752\u001b[0m \u001b[32m━━━━━━━━━━━━━━━━━━━━\u001b[0m\u001b[37m\u001b[0m \u001b[1m3s\u001b[0m 906us/step - loss: 0.0826 - mae: 0.2216 - val_loss: 0.0452 - val_mae: 0.1510\n",
      "Epoch 44/100\n",
      "\u001b[1m3752/3752\u001b[0m \u001b[32m━━━━━━━━━━━━━━━━━━━━\u001b[0m\u001b[37m\u001b[0m \u001b[1m3s\u001b[0m 914us/step - loss: 0.0823 - mae: 0.2205 - val_loss: 0.0463 - val_mae: 0.1560\n",
      "Epoch 45/100\n",
      "\u001b[1m3752/3752\u001b[0m \u001b[32m━━━━━━━━━━━━━━━━━━━━\u001b[0m\u001b[37m\u001b[0m \u001b[1m3s\u001b[0m 915us/step - loss: 0.0813 - mae: 0.2198 - val_loss: 0.0461 - val_mae: 0.1564\n",
      "Epoch 46/100\n",
      "\u001b[1m3752/3752\u001b[0m \u001b[32m━━━━━━━━━━━━━━━━━━━━\u001b[0m\u001b[37m\u001b[0m \u001b[1m4s\u001b[0m 942us/step - loss: 0.0818 - mae: 0.2198 - val_loss: 0.0456 - val_mae: 0.1507\n",
      "Epoch 47/100\n",
      "\u001b[1m3752/3752\u001b[0m \u001b[32m━━━━━━━━━━━━━━━━━━━━\u001b[0m\u001b[37m\u001b[0m \u001b[1m4s\u001b[0m 936us/step - loss: 0.0787 - mae: 0.2153 - val_loss: 0.0456 - val_mae: 0.1539\n",
      "Epoch 48/100\n",
      "\u001b[1m3752/3752\u001b[0m \u001b[32m━━━━━━━━━━━━━━━━━━━━\u001b[0m\u001b[37m\u001b[0m \u001b[1m3s\u001b[0m 911us/step - loss: 0.0786 - mae: 0.2155 - val_loss: 0.0451 - val_mae: 0.1513\n",
      "Epoch 49/100\n",
      "\u001b[1m3752/3752\u001b[0m \u001b[32m━━━━━━━━━━━━━━━━━━━━\u001b[0m\u001b[37m\u001b[0m \u001b[1m3s\u001b[0m 904us/step - loss: 0.0788 - mae: 0.2155 - val_loss: 0.0474 - val_mae: 0.1601\n",
      "Epoch 50/100\n",
      "\u001b[1m3752/3752\u001b[0m \u001b[32m━━━━━━━━━━━━━━━━━━━━\u001b[0m\u001b[37m\u001b[0m \u001b[1m4s\u001b[0m 932us/step - loss: 0.0780 - mae: 0.2140 - val_loss: 0.0457 - val_mae: 0.1544\n",
      "Epoch 51/100\n",
      "\u001b[1m3752/3752\u001b[0m \u001b[32m━━━━━━━━━━━━━━━━━━━━\u001b[0m\u001b[37m\u001b[0m \u001b[1m3s\u001b[0m 926us/step - loss: 0.0777 - mae: 0.2138 - val_loss: 0.0460 - val_mae: 0.1543\n",
      "Epoch 52/100\n",
      "\u001b[1m3752/3752\u001b[0m \u001b[32m━━━━━━━━━━━━━━━━━━━━\u001b[0m\u001b[37m\u001b[0m \u001b[1m3s\u001b[0m 917us/step - loss: 0.0780 - mae: 0.2144 - val_loss: 0.0452 - val_mae: 0.1512\n",
      "Epoch 53/100\n",
      "\u001b[1m3752/3752\u001b[0m \u001b[32m━━━━━━━━━━━━━━━━━━━━\u001b[0m\u001b[37m\u001b[0m \u001b[1m3s\u001b[0m 911us/step - loss: 0.0758 - mae: 0.2112 - val_loss: 0.0453 - val_mae: 0.1522\n",
      "Epoch 54/100\n",
      "\u001b[1m3752/3752\u001b[0m \u001b[32m━━━━━━━━━━━━━━━━━━━━\u001b[0m\u001b[37m\u001b[0m \u001b[1m4s\u001b[0m 945us/step - loss: 0.0763 - mae: 0.2118 - val_loss: 0.0453 - val_mae: 0.1531\n",
      "Epoch 55/100\n",
      "\u001b[1m3752/3752\u001b[0m \u001b[32m━━━━━━━━━━━━━━━━━━━━\u001b[0m\u001b[37m\u001b[0m \u001b[1m3s\u001b[0m 904us/step - loss: 0.0768 - mae: 0.2123 - val_loss: 0.0449 - val_mae: 0.1517\n",
      "Epoch 56/100\n",
      "\u001b[1m3752/3752\u001b[0m \u001b[32m━━━━━━━━━━━━━━━━━━━━\u001b[0m\u001b[37m\u001b[0m \u001b[1m3s\u001b[0m 891us/step - loss: 0.0765 - mae: 0.2118 - val_loss: 0.0448 - val_mae: 0.1524\n",
      "Epoch 57/100\n",
      "\u001b[1m3752/3752\u001b[0m \u001b[32m━━━━━━━━━━━━━━━━━━━━\u001b[0m\u001b[37m\u001b[0m \u001b[1m3s\u001b[0m 915us/step - loss: 0.0754 - mae: 0.2107 - val_loss: 0.0454 - val_mae: 0.1538\n",
      "Epoch 58/100\n",
      "\u001b[1m3752/3752\u001b[0m \u001b[32m━━━━━━━━━━━━━━━━━━━━\u001b[0m\u001b[37m\u001b[0m \u001b[1m4s\u001b[0m 949us/step - loss: 0.0758 - mae: 0.2111 - val_loss: 0.0453 - val_mae: 0.1547\n",
      "Epoch 59/100\n",
      "\u001b[1m3752/3752\u001b[0m \u001b[32m━━━━━━━━━━━━━━━━━━━━\u001b[0m\u001b[37m\u001b[0m \u001b[1m3s\u001b[0m 904us/step - loss: 0.0753 - mae: 0.2103 - val_loss: 0.0450 - val_mae: 0.1506\n",
      "Epoch 60/100\n",
      "\u001b[1m3752/3752\u001b[0m \u001b[32m━━━━━━━━━━━━━━━━━━━━\u001b[0m\u001b[37m\u001b[0m \u001b[1m3s\u001b[0m 901us/step - loss: 0.0754 - mae: 0.2106 - val_loss: 0.0456 - val_mae: 0.1541\n",
      "Epoch 61/100\n",
      "\u001b[1m3752/3752\u001b[0m \u001b[32m━━━━━━━━━━━━━━━━━━━━\u001b[0m\u001b[37m\u001b[0m \u001b[1m3s\u001b[0m 906us/step - loss: 0.0748 - mae: 0.2094 - val_loss: 0.0446 - val_mae: 0.1503\n",
      "Epoch 62/100\n",
      "\u001b[1m3752/3752\u001b[0m \u001b[32m━━━━━━━━━━━━━━━━━━━━\u001b[0m\u001b[37m\u001b[0m \u001b[1m4s\u001b[0m 944us/step - loss: 0.0756 - mae: 0.2104 - val_loss: 0.0453 - val_mae: 0.1549\n",
      "Epoch 63/100\n",
      "\u001b[1m3752/3752\u001b[0m \u001b[32m━━━━━━━━━━━━━━━━━━━━\u001b[0m\u001b[37m\u001b[0m \u001b[1m3s\u001b[0m 928us/step - loss: 0.0756 - mae: 0.2107 - val_loss: 0.0452 - val_mae: 0.1544\n",
      "Epoch 64/100\n",
      "\u001b[1m3752/3752\u001b[0m \u001b[32m━━━━━━━━━━━━━━━━━━━━\u001b[0m\u001b[37m\u001b[0m \u001b[1m3s\u001b[0m 898us/step - loss: 0.0752 - mae: 0.2101 - val_loss: 0.0450 - val_mae: 0.1529\n",
      "Epoch 65/100\n",
      "\u001b[1m3752/3752\u001b[0m \u001b[32m━━━━━━━━━━━━━━━━━━━━\u001b[0m\u001b[37m\u001b[0m \u001b[1m4s\u001b[0m 947us/step - loss: 0.0749 - mae: 0.2095 - val_loss: 0.0450 - val_mae: 0.1545\n",
      "Epoch 66/100\n",
      "\u001b[1m3752/3752\u001b[0m \u001b[32m━━━━━━━━━━━━━━━━━━━━\u001b[0m\u001b[37m\u001b[0m \u001b[1m3s\u001b[0m 918us/step - loss: 0.0747 - mae: 0.2093 - val_loss: 0.0448 - val_mae: 0.1523\n",
      "Epoch 67/100\n",
      "\u001b[1m3752/3752\u001b[0m \u001b[32m━━━━━━━━━━━━━━━━━━━━\u001b[0m\u001b[37m\u001b[0m \u001b[1m3s\u001b[0m 909us/step - loss: 0.0753 - mae: 0.2105 - val_loss: 0.0444 - val_mae: 0.1503\n",
      "Epoch 68/100\n",
      "\u001b[1m3752/3752\u001b[0m \u001b[32m━━━━━━━━━━━━━━━━━━━━\u001b[0m\u001b[37m\u001b[0m \u001b[1m3s\u001b[0m 912us/step - loss: 0.0750 - mae: 0.2099 - val_loss: 0.0444 - val_mae: 0.1520\n",
      "Epoch 69/100\n",
      "\u001b[1m3752/3752\u001b[0m \u001b[32m━━━━━━━━━━━━━━━━━━━━\u001b[0m\u001b[37m\u001b[0m \u001b[1m4s\u001b[0m 972us/step - loss: 0.0747 - mae: 0.2093 - val_loss: 0.0447 - val_mae: 0.1511\n",
      "Epoch 70/100\n",
      "\u001b[1m3752/3752\u001b[0m \u001b[32m━━━━━━━━━━━━━━━━━━━━\u001b[0m\u001b[37m\u001b[0m \u001b[1m4s\u001b[0m 935us/step - loss: 0.0742 - mae: 0.2083 - val_loss: 0.0440 - val_mae: 0.1482\n",
      "Epoch 71/100\n",
      "\u001b[1m3752/3752\u001b[0m \u001b[32m━━━━━━━━━━━━━━━━━━━━\u001b[0m\u001b[37m\u001b[0m \u001b[1m3s\u001b[0m 923us/step - loss: 0.0741 - mae: 0.2080 - val_loss: 0.0442 - val_mae: 0.1491\n",
      "Epoch 72/100\n",
      "\u001b[1m3752/3752\u001b[0m \u001b[32m━━━━━━━━━━━━━━━━━━━━\u001b[0m\u001b[37m\u001b[0m \u001b[1m4s\u001b[0m 950us/step - loss: 0.0743 - mae: 0.2085 - val_loss: 0.0445 - val_mae: 0.1503\n",
      "Epoch 73/100\n",
      "\u001b[1m3752/3752\u001b[0m \u001b[32m━━━━━━━━━━━━━━━━━━━━\u001b[0m\u001b[37m\u001b[0m \u001b[1m3s\u001b[0m 924us/step - loss: 0.0748 - mae: 0.2089 - val_loss: 0.0444 - val_mae: 0.1513\n",
      "Epoch 74/100\n",
      "\u001b[1m3752/3752\u001b[0m \u001b[32m━━━━━━━━━━━━━━━━━━━━\u001b[0m\u001b[37m\u001b[0m \u001b[1m3s\u001b[0m 926us/step - loss: 0.0741 - mae: 0.2086 - val_loss: 0.0442 - val_mae: 0.1508\n",
      "Epoch 75/100\n",
      "\u001b[1m3752/3752\u001b[0m \u001b[32m━━━━━━━━━━━━━━━━━━━━\u001b[0m\u001b[37m\u001b[0m \u001b[1m4s\u001b[0m 959us/step - loss: 0.0739 - mae: 0.2080 - val_loss: 0.0447 - val_mae: 0.1510\n",
      "Epoch 76/100\n",
      "\u001b[1m3752/3752\u001b[0m \u001b[32m━━━━━━━━━━━━━━━━━━━━\u001b[0m\u001b[37m\u001b[0m \u001b[1m3s\u001b[0m 925us/step - loss: 0.0736 - mae: 0.2073 - val_loss: 0.0440 - val_mae: 0.1498\n",
      "Epoch 77/100\n",
      "\u001b[1m3752/3752\u001b[0m \u001b[32m━━━━━━━━━━━━━━━━━━━━\u001b[0m\u001b[37m\u001b[0m \u001b[1m3s\u001b[0m 920us/step - loss: 0.0740 - mae: 0.2078 - val_loss: 0.0439 - val_mae: 0.1498\n",
      "Epoch 78/100\n",
      "\u001b[1m3752/3752\u001b[0m \u001b[32m━━━━━━━━━━━━━━━━━━━━\u001b[0m\u001b[37m\u001b[0m \u001b[1m4s\u001b[0m 942us/step - loss: 0.0732 - mae: 0.2069 - val_loss: 0.0447 - val_mae: 0.1533\n",
      "Epoch 79/100\n",
      "\u001b[1m3752/3752\u001b[0m \u001b[32m━━━━━━━━━━━━━━━━━━━━\u001b[0m\u001b[37m\u001b[0m \u001b[1m3s\u001b[0m 912us/step - loss: 0.0736 - mae: 0.2072 - val_loss: 0.0445 - val_mae: 0.1507\n",
      "Epoch 80/100\n",
      "\u001b[1m3752/3752\u001b[0m \u001b[32m━━━━━━━━━━━━━━━━━━━━\u001b[0m\u001b[37m\u001b[0m \u001b[1m4s\u001b[0m 962us/step - loss: 0.0729 - mae: 0.2062 - val_loss: 0.0438 - val_mae: 0.1489\n",
      "Epoch 81/100\n",
      "\u001b[1m3752/3752\u001b[0m \u001b[32m━━━━━━━━━━━━━━━━━━━━\u001b[0m\u001b[37m\u001b[0m \u001b[1m4s\u001b[0m 932us/step - loss: 0.0744 - mae: 0.2078 - val_loss: 0.0442 - val_mae: 0.1495\n",
      "Epoch 82/100\n",
      "\u001b[1m3752/3752\u001b[0m \u001b[32m━━━━━━━━━━━━━━━━━━━━\u001b[0m\u001b[37m\u001b[0m \u001b[1m3s\u001b[0m 909us/step - loss: 0.0734 - mae: 0.2067 - val_loss: 0.0443 - val_mae: 0.1498\n",
      "Epoch 83/100\n",
      "\u001b[1m3752/3752\u001b[0m \u001b[32m━━━━━━━━━━━━━━━━━━━━\u001b[0m\u001b[37m\u001b[0m \u001b[1m4s\u001b[0m 941us/step - loss: 0.0726 - mae: 0.2059 - val_loss: 0.0436 - val_mae: 0.1490\n",
      "Epoch 84/100\n",
      "\u001b[1m3752/3752\u001b[0m \u001b[32m━━━━━━━━━━━━━━━━━━━━\u001b[0m\u001b[37m\u001b[0m \u001b[1m3s\u001b[0m 908us/step - loss: 0.0730 - mae: 0.2065 - val_loss: 0.0441 - val_mae: 0.1505\n",
      "Epoch 85/100\n",
      "\u001b[1m3752/3752\u001b[0m \u001b[32m━━━━━━━━━━━━━━━━━━━━\u001b[0m\u001b[37m\u001b[0m \u001b[1m4s\u001b[0m 937us/step - loss: 0.0730 - mae: 0.2061 - val_loss: 0.0442 - val_mae: 0.1507\n",
      "Epoch 86/100\n",
      "\u001b[1m3752/3752\u001b[0m \u001b[32m━━━━━━━━━━━━━━━━━━━━\u001b[0m\u001b[37m\u001b[0m \u001b[1m4s\u001b[0m 957us/step - loss: 0.0739 - mae: 0.2071 - val_loss: 0.0437 - val_mae: 0.1503\n",
      "Epoch 87/100\n",
      "\u001b[1m3752/3752\u001b[0m \u001b[32m━━━━━━━━━━━━━━━━━━━━\u001b[0m\u001b[37m\u001b[0m \u001b[1m4s\u001b[0m 936us/step - loss: 0.0729 - mae: 0.2057 - val_loss: 0.0445 - val_mae: 0.1526\n",
      "Epoch 88/100\n",
      "\u001b[1m3752/3752\u001b[0m \u001b[32m━━━━━━━━━━━━━━━━━━━━\u001b[0m\u001b[37m\u001b[0m \u001b[1m4s\u001b[0m 961us/step - loss: 0.0729 - mae: 0.2061 - val_loss: 0.0440 - val_mae: 0.1487\n",
      "Epoch 89/100\n",
      "\u001b[1m3752/3752\u001b[0m \u001b[32m━━━━━━━━━━━━━━━━━━━━\u001b[0m\u001b[37m\u001b[0m \u001b[1m3s\u001b[0m 916us/step - loss: 0.0729 - mae: 0.2064 - val_loss: 0.0436 - val_mae: 0.1463\n",
      "Epoch 90/100\n",
      "\u001b[1m3752/3752\u001b[0m \u001b[32m━━━━━━━━━━━━━━━━━━━━\u001b[0m\u001b[37m\u001b[0m \u001b[1m4s\u001b[0m 974us/step - loss: 0.0721 - mae: 0.2047 - val_loss: 0.0445 - val_mae: 0.1521\n",
      "Epoch 91/100\n",
      "\u001b[1m3752/3752\u001b[0m \u001b[32m━━━━━━━━━━━━━━━━━━━━\u001b[0m\u001b[37m\u001b[0m \u001b[1m4s\u001b[0m 958us/step - loss: 0.0735 - mae: 0.2071 - val_loss: 0.0437 - val_mae: 0.1501\n",
      "Epoch 92/100\n",
      "\u001b[1m3752/3752\u001b[0m \u001b[32m━━━━━━━━━━━━━━━━━━━━\u001b[0m\u001b[37m\u001b[0m \u001b[1m3s\u001b[0m 919us/step - loss: 0.0723 - mae: 0.2052 - val_loss: 0.0436 - val_mae: 0.1490\n",
      "Epoch 93/100\n",
      "\u001b[1m3752/3752\u001b[0m \u001b[32m━━━━━━━━━━━━━━━━━━━━\u001b[0m\u001b[37m\u001b[0m \u001b[1m4s\u001b[0m 957us/step - loss: 0.0722 - mae: 0.2055 - val_loss: 0.0471 - val_mae: 0.1615\n"
     ]
    }
   ],
   "source": [
    "# Train the model\n",
    "# Train the model with Early Stopping\n",
    "callback = tf.keras.callbacks.EarlyStopping(monitor='val_loss', patience=10, restore_best_weights=True)\n",
    "history = model.fit(X_train, y_train, validation_data=(X_test, y_test), epochs=100, batch_size=64, callbacks=[callback])"
   ]
  },
  {
   "cell_type": "code",
   "execution_count": 47,
   "id": "e4e4e731-7362-4981-bfce-5ffca5f6eb4e",
   "metadata": {},
   "outputs": [
    {
     "name": "stdout",
     "output_type": "stream",
     "text": [
      "\u001b[1m1876/1876\u001b[0m \u001b[32m━━━━━━━━━━━━━━━━━━━━\u001b[0m\u001b[37m\u001b[0m \u001b[1m1s\u001b[0m 276us/step - loss: 0.0435 - mae: 0.1492\n",
      "Test MAE: 0.1489829570055008\n"
     ]
    }
   ],
   "source": [
    "# Evaluate the model\n",
    "test_loss, test_mae = model.evaluate(X_test, y_test, verbose=1)\n",
    "print(f\"Test MAE: {test_mae}\")"
   ]
  },
  {
   "cell_type": "code",
   "execution_count": 53,
   "id": "86f46a42-d64d-4e9b-b50f-4257a93e68c5",
   "metadata": {},
   "outputs": [
    {
     "data": {
      "image/png": "[encoded data removed]",
      "text/plain": [
       "<Figure size 1000x500 with 1 Axes>"
      ]
     },
     "metadata": {},
     "output_type": "display_data"
    }
   ],
   "source": [
    "# Plot training and validation loss\n",
    "plt.figure(figsize=(10, 5))\n",
    "plt.plot(history.history['loss'], label='Training Loss')\n",
    "plt.plot(history.history['val_loss'], label='Validation Loss')\n",
    "plt.xlabel('Epochs')\n",
    "plt.ylabel('Loss')\n",
    "plt.title('Training vs Validation Loss')\n",
    "plt.legend()\n",
    "plt.show()\n"
   ]
  },
  {
   "cell_type": "code",
   "execution_count": 55,
   "id": "21602c2a-91a8-4134-aa9f-466d36275cd8",
   "metadata": {},
   "outputs": [
    {
     "data": {
      "image/png": "[encoded data removed]",
      "text/plain": [
       "<Figure size 1000x500 with 1 Axes>"
      ]
     },
     "metadata": {},
     "output_type": "display_data"
    }
   ],
   "source": [
    "# Plot training and validation MAE\n",
    "plt.figure(figsize=(10, 5))\n",
    "plt.plot(history.history['mae'], label='Training MAE')\n",
    "plt.plot(history.history['val_mae'], label='Validation MAE')\n",
    "plt.xlabel('Epochs')\n",
    "plt.ylabel('MAE')\n",
    "plt.title('Training vs Validation MAE')\n",
    "plt.legend()\n",
    "plt.show()\n"
   ]
  },
  {
   "cell_type": "code",
   "execution_count": null,
   "id": "604bde98-202c-4520-8b4f-4449f9f4361f",
   "metadata": {},
   "outputs": [],
   "source": []
  }
 ],
 "metadata": {
  "kernelspec": {
   "display_name": "Python [conda env:base] *",
   "language": "python",
   "name": "conda-base-py"
  },
  "language_info": {
   "codemirror_mode": {
    "name": "ipython",
    "version": 3
   },
   "file_extension": ".py",
   "mimetype": "text/x-python",
   "name": "python",
   "nbconvert_exporter": "python",
   "pygments_lexer": "ipython3",
   "version": "3.12.7"
  }
 },
 "nbformat": 4,
 "nbformat_minor": 5
}
